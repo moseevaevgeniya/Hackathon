{
 "cells": [
  {
   "cell_type": "markdown",
   "id": "c242ca14",
   "metadata": {
    "toc": true
   },
   "source": [
    "<h1>Содержание<span class=\"tocSkip\"></span></h1>\n",
    "<div class=\"toc\"><ul class=\"toc-item\"><li><span><a href=\"#Первичный-осмотр-данных\" data-toc-modified-id=\"Первичный-осмотр-данных-1\"><span class=\"toc-item-num\">1&nbsp;&nbsp;</span>Первичный осмотр данных</a></span><ul class=\"toc-item\"><li><span><a href=\"#Описание-данных\" data-toc-modified-id=\"Описание-данных-1.1\"><span class=\"toc-item-num\">1.1&nbsp;&nbsp;</span>Описание данных</a></span></li><li><span><a href=\"#Загрузка-библиотек\" data-toc-modified-id=\"Загрузка-библиотек-1.2\"><span class=\"toc-item-num\">1.2&nbsp;&nbsp;</span>Загрузка библиотек</a></span></li><li><span><a href=\"#Загрузка-данных\" data-toc-modified-id=\"Загрузка-данных-1.3\"><span class=\"toc-item-num\">1.3&nbsp;&nbsp;</span>Загрузка данных</a></span></li><li><span><a href=\"#Знакомство-с-данными\" data-toc-modified-id=\"Знакомство-с-данными-1.4\"><span class=\"toc-item-num\">1.4&nbsp;&nbsp;</span>Знакомство с данными</a></span></li></ul></li><li><span><a href=\"#Найдём-высоконагруженные-“горячие”-объекты-хранилища-данных-и-спрогнозируем-потенциальный-рост-нагрузки.\" data-toc-modified-id=\"Найдём-высоконагруженные-“горячие”-объекты-хранилища-данных-и-спрогнозируем-потенциальный-рост-нагрузки.-2\"><span class=\"toc-item-num\">2&nbsp;&nbsp;</span>Найдём высоконагруженные “горячие” объекты хранилища данных и спрогнозируем потенциальный рост нагрузки.</a></span><ul class=\"toc-item\"><li><span><a href=\"#Найдём-таблицы,-в-которые-записываются-данные-(кем-угодно),-но-которые-не-читаются-разработчиками,-ранжировать-по-степени-«неиспользуемости»\" data-toc-modified-id=\"Найдём-таблицы,-в-которые-записываются-данные-(кем-угодно),-но-которые-не-читаются-разработчиками,-ранжировать-по-степени-«неиспользуемости»-2.1\"><span class=\"toc-item-num\">2.1&nbsp;&nbsp;</span>Найдём таблицы, в которые записываются данные (кем угодно), но которые не читаются разработчиками, ранжировать по степени «неиспользуемости»</a></span><ul class=\"toc-item\"><li><span><a href=\"#Вывод\" data-toc-modified-id=\"Вывод-2.1.1\"><span class=\"toc-item-num\">2.1.1&nbsp;&nbsp;</span>Вывод</a></span></li></ul></li><li><span><a href=\"#Поиск-тяжелых-объектов\" data-toc-modified-id=\"Поиск-тяжелых-объектов-2.2\"><span class=\"toc-item-num\">2.2&nbsp;&nbsp;</span>Поиск тяжелых объектов</a></span><ul class=\"toc-item\"><li><span><a href=\"#Вывод\" data-toc-modified-id=\"Вывод-2.2.1\"><span class=\"toc-item-num\">2.2.1&nbsp;&nbsp;</span>Вывод</a></span></li></ul></li></ul></li><li><span><a href=\"#Чек-лист-готовности-проекта\" data-toc-modified-id=\"Чек-лист-готовности-проекта-3\"><span class=\"toc-item-num\">3&nbsp;&nbsp;</span>Чек-лист готовности проекта</a></span></li></ul></div>"
   ]
  },
  {
   "cell_type": "markdown",
   "id": "95e8200b",
   "metadata": {},
   "source": [
    "<a id='intro'></a>"
   ]
  },
  {
   "cell_type": "markdown",
   "id": "d707d21d",
   "metadata": {},
   "source": [
    "# Интеллектуальный анализ работы хранилища данных на основании обработки логов"
   ]
  },
  {
   "cell_type": "markdown",
   "id": "c16aff86",
   "metadata": {},
   "source": [
    "**Наша задача - Найти высоконагруженные “горячие” объекты хранилища данных и спрогнозировать потенциальный рост нагрузки.**  \n",
    "\n",
    "**Описание задачи:**  \n",
    "\n",
    "- На основе предоставленных логов хранилища необходимо разработать алгоритм обработки данных и прогнозирования будущей нагрузки. Важно частью задачи является выявление и распределение объектов хранилища по различным критериям.     \n",
    "\n",
    "\n",
    "- В качестве исходных данных предоставлен набор логов, которые содержат запросы к базе данных GreenPlum. Нужно предложить метод быстрой обработки этих данных. Выделению отдельных объектов, к которым чаще всего обращаются пользователи. Выявления самых “тяжелыx” и самых “горячих” объектов. Прогнозирование нагрузки на систему в разные временные отрезки.    \n",
    "\n",
    "\n",
    "- Задача со звёздочкой: прогнозирования времени исполнения запроса по предоставленным данным.   \n",
    "\n",
    "**Технические требования:**  \n",
    "\n",
    "- Можно использовать только свободное ПО. Язык: Python или Java  \n",
    "\n",
    "**Критерии оценки:**  \n",
    "\n",
    "- Технические и инфраструктурные критерии:   \n",
    "\n",
    "  - Запускаемость  \n",
    "  - Скорость работы решения  \n",
    "  - Адаптируемость и масштабируемость  \n",
    "  - Качество кода   \n",
    "  \n",
    "  \n",
    "- Бизнес-критерии:\n",
    "\n",
    "  - Полезность   \n",
    "  - Применимость   \n",
    "  \n",
    "**Правила:**  \n",
    "\n",
    "- Для реализации проекта был создан репозиторий Gitlab.    \n",
    "- Нам следует авторизоваться по ссылке и доступам, указанным ниже.  "
   ]
  },
  {
   "cell_type": "markdown",
   "id": "d7b512ed",
   "metadata": {},
   "source": [
    "## Первичный осмотр данных"
   ]
  },
  {
   "cell_type": "markdown",
   "id": "0adea036",
   "metadata": {},
   "source": [
    "- Загрузить данные и изучить общую информацию, размер датасета;  \n",
    "- Убедимся, что тип данных в каждой колонке — правильный, а также отсутствуют пропущенные значения и дубликаты. При необходимости обработать их.    "
   ]
  },
  {
   "cell_type": "markdown",
   "id": "68f8d9ff",
   "metadata": {},
   "source": [
    "### Описание данных"
   ]
  },
  {
   "cell_type": "markdown",
   "id": "4a0b8a70",
   "metadata": {},
   "source": [
    "Путь к файлу log_week_end: https://disk.yandex.ru/d/Q2KNJWRi2arx_Q  \n",
    "Путь к файлу log_week_2_end: https://disk.yandex.ru/d/GVpEe9rX0poZhw"
   ]
  },
  {
   "cell_type": "markdown",
   "id": "38782ed5",
   "metadata": {},
   "source": [
    "**Данные таблиц содержат в себя следующие поля:**  \n",
    "\n",
    "`Rn` – уникальный номер записи  \n",
    "`Loguser` – пользователь (dev_* - разработчики, etl_* - загрузчик)  \n",
    "`Query` – запрос в базу:  \n",
    "  - `from, join` - извлечение данных  \n",
    "  - `into` - запись данных  \n",
    "  \n",
    "`duration` - время, мс  \n"
   ]
  },
  {
   "cell_type": "markdown",
   "id": "7b3009aa",
   "metadata": {},
   "source": [
    "### Загрузка библиотек"
   ]
  },
  {
   "cell_type": "code",
   "execution_count": 1,
   "id": "6ec38954",
   "metadata": {},
   "outputs": [],
   "source": [
    "import pandas as pd                                         # для анализа данных\n",
    "import numpy as np                                          # для математических вычислений\n",
    "import math as mth                                          # для математических вычислений"
   ]
  },
  {
   "cell_type": "code",
   "execution_count": 2,
   "id": "d96a8620",
   "metadata": {},
   "outputs": [
    {
     "name": "stderr",
     "output_type": "stream",
     "text": [
      "C:\\Users\\Denis\\anaconda3\\envs\\da_practicum_env\\lib\\site-packages\\requests\\__init__.py:89: RequestsDependencyWarning: urllib3 (1.26.11) or chardet (3.0.4) doesn't match a supported version!\n",
      "  warnings.warn(\"urllib3 ({}) or chardet ({}) doesn't match a supported \"\n"
     ]
    }
   ],
   "source": [
    "from urllib.parse import urlencode                          # преобразует объект сопоставления (словарь)\n",
    "                                                            # или последовательность кортежей,\n",
    "                                                            # состоящих из 2-х элементов в текстовую ASCII строку\n",
    "                                                            # с процентным кодированием. \n",
    "import requests                                             #  модуль Python, который можно\n",
    "                                                            # использовать для отправки всех видов HTTP-запросов \n",
    "import re"
   ]
  },
  {
   "cell_type": "code",
   "execution_count": 3,
   "id": "14300b43",
   "metadata": {},
   "outputs": [],
   "source": [
    "import matplotlib.pyplot as plt                             # для визуализации "
   ]
  },
  {
   "cell_type": "markdown",
   "id": "75ec409d",
   "metadata": {},
   "source": [
    "### Загрузка данных"
   ]
  },
  {
   "cell_type": "markdown",
   "id": "5c28ac4c",
   "metadata": {},
   "source": [
    "[К началу тетрадки](#intro)"
   ]
  },
  {
   "cell_type": "markdown",
   "id": "898368e2",
   "metadata": {},
   "source": [
    "Загружаем данные (без скачивания файлов):"
   ]
  },
  {
   "cell_type": "code",
   "execution_count": 4,
   "id": "d9418970",
   "metadata": {},
   "outputs": [],
   "source": [
    "base_url = 'https://cloud-api.yandex.net/v1/disk/public/resources/download?'\n",
    "public_key = ['https://disk.yandex.ru/d/Q2KNJWRi2arx_Q', \n",
    "              'https://disk.yandex.ru/d/GVpEe9rX0poZhw']                # ссылки на данные\n",
    "\n",
    "file_names = ['log_week_end.csv', \n",
    "             'log_week_2_end.csv']                           # имена файлов\n",
    "\n",
    "datasets = ['log', 'log_duration']\n",
    "\n",
    "for i in range(2):\n",
    "    # получаем загрузочную ссылку\n",
    "    final_url = base_url + urlencode(dict(public_key=public_key[i]))\n",
    "    response = requests.get(final_url)\n",
    "    download_url = response.json()['href']\n",
    "    \n",
    "    # загружаем данные по ссылкам\n",
    "    globals()[datasets[i]] = pd.read_csv(download_url)"
   ]
  },
  {
   "cell_type": "markdown",
   "id": "09c887c5",
   "metadata": {},
   "source": [
    "### Знакомство с данными"
   ]
  },
  {
   "cell_type": "markdown",
   "id": "efef856c",
   "metadata": {},
   "source": [
    "Посмотрим сколько число строк в наших данных:  "
   ]
  },
  {
   "cell_type": "code",
   "execution_count": 5,
   "id": "76fb9457",
   "metadata": {},
   "outputs": [
    {
     "name": "stdout",
     "output_type": "stream",
     "text": [
      "Число строк в log:   641138\n",
      "Число строк в log_duration:  630078\n"
     ]
    }
   ],
   "source": [
    "print('Число строк в log:  ', log.shape[0])\n",
    "print('Число строк в log_duration: ', log_duration.shape[0])"
   ]
  },
  {
   "cell_type": "markdown",
   "id": "4fdc55b9",
   "metadata": {},
   "source": [
    "Получим 10 случайно выбранных записей из таблицы log:"
   ]
  },
  {
   "cell_type": "code",
   "execution_count": 6,
   "id": "b41c9d15",
   "metadata": {},
   "outputs": [
    {
     "data": {
      "text/html": [
       "<div>\n",
       "<style scoped>\n",
       "    .dataframe tbody tr th:only-of-type {\n",
       "        vertical-align: middle;\n",
       "    }\n",
       "\n",
       "    .dataframe tbody tr th {\n",
       "        vertical-align: top;\n",
       "    }\n",
       "\n",
       "    .dataframe thead th {\n",
       "        text-align: right;\n",
       "    }\n",
       "</style>\n",
       "<table border=\"1\" class=\"dataframe\">\n",
       "  <thead>\n",
       "    <tr style=\"text-align: right;\">\n",
       "      <th></th>\n",
       "      <th>rn</th>\n",
       "      <th>loguser</th>\n",
       "      <th>query</th>\n",
       "    </tr>\n",
       "  </thead>\n",
       "  <tbody>\n",
       "    <tr>\n",
       "      <th>74146</th>\n",
       "      <td>517943</td>\n",
       "      <td>etl_2048</td>\n",
       "      <td>into tbl_61646,join tbl_61646,from tbl_61647</td>\n",
       "    </tr>\n",
       "    <tr>\n",
       "      <th>165442</th>\n",
       "      <td>560477</td>\n",
       "      <td>etl_2048</td>\n",
       "      <td>from tbl_126126</td>\n",
       "    </tr>\n",
       "    <tr>\n",
       "      <th>362881</th>\n",
       "      <td>1007386</td>\n",
       "      <td>dev_1586</td>\n",
       "      <td>into tbl_24696</td>\n",
       "    </tr>\n",
       "    <tr>\n",
       "      <th>157006</th>\n",
       "      <td>28189</td>\n",
       "      <td>dev_332</td>\n",
       "      <td>into tbl_33185,from tbl_44922</td>\n",
       "    </tr>\n",
       "    <tr>\n",
       "      <th>186343</th>\n",
       "      <td>716268</td>\n",
       "      <td>etl_2048</td>\n",
       "      <td>from tbl_92054</td>\n",
       "    </tr>\n",
       "    <tr>\n",
       "      <th>408110</th>\n",
       "      <td>132108</td>\n",
       "      <td>etl_1358</td>\n",
       "      <td>JOIN tbl_33595,FROM tbl_33623</td>\n",
       "    </tr>\n",
       "    <tr>\n",
       "      <th>334260</th>\n",
       "      <td>567276</td>\n",
       "      <td>etl_2048</td>\n",
       "      <td>into tbl_82219,join tbl_82219,from tbl_82218</td>\n",
       "    </tr>\n",
       "    <tr>\n",
       "      <th>445272</th>\n",
       "      <td>582828</td>\n",
       "      <td>etl_2048</td>\n",
       "      <td>into tbl_195316,join tbl_195316,from tbl_195318</td>\n",
       "    </tr>\n",
       "    <tr>\n",
       "      <th>80402</th>\n",
       "      <td>906050</td>\n",
       "      <td>etl_2048</td>\n",
       "      <td>from tbl_72527</td>\n",
       "    </tr>\n",
       "    <tr>\n",
       "      <th>544598</th>\n",
       "      <td>913957</td>\n",
       "      <td>etl_2048</td>\n",
       "      <td>into tbl_159591,join tbl_159591,from tbl_159592</td>\n",
       "    </tr>\n",
       "  </tbody>\n",
       "</table>\n",
       "</div>"
      ],
      "text/plain": [
       "             rn   loguser                                            query\n",
       "74146    517943  etl_2048     into tbl_61646,join tbl_61646,from tbl_61647\n",
       "165442   560477  etl_2048                                  from tbl_126126\n",
       "362881  1007386  dev_1586                                   into tbl_24696\n",
       "157006    28189   dev_332                    into tbl_33185,from tbl_44922\n",
       "186343   716268  etl_2048                                   from tbl_92054\n",
       "408110   132108  etl_1358                    JOIN tbl_33595,FROM tbl_33623\n",
       "334260   567276  etl_2048     into tbl_82219,join tbl_82219,from tbl_82218\n",
       "445272   582828  etl_2048  into tbl_195316,join tbl_195316,from tbl_195318\n",
       "80402    906050  etl_2048                                   from tbl_72527\n",
       "544598   913957  etl_2048  into tbl_159591,join tbl_159591,from tbl_159592"
      ]
     },
     "execution_count": 6,
     "metadata": {},
     "output_type": "execute_result"
    }
   ],
   "source": [
    "log.sample(10, random_state=123)"
   ]
  },
  {
   "cell_type": "markdown",
   "id": "ef741607",
   "metadata": {},
   "source": [
    "Получим 10 случайно выбранных записей из таблицы log_duration:"
   ]
  },
  {
   "cell_type": "code",
   "execution_count": 7,
   "id": "d694816e",
   "metadata": {},
   "outputs": [
    {
     "data": {
      "text/html": [
       "<div>\n",
       "<style scoped>\n",
       "    .dataframe tbody tr th:only-of-type {\n",
       "        vertical-align: middle;\n",
       "    }\n",
       "\n",
       "    .dataframe tbody tr th {\n",
       "        vertical-align: top;\n",
       "    }\n",
       "\n",
       "    .dataframe thead th {\n",
       "        text-align: right;\n",
       "    }\n",
       "</style>\n",
       "<table border=\"1\" class=\"dataframe\">\n",
       "  <thead>\n",
       "    <tr style=\"text-align: right;\">\n",
       "      <th></th>\n",
       "      <th>rn</th>\n",
       "      <th>loguser</th>\n",
       "      <th>query</th>\n",
       "      <th>duration</th>\n",
       "    </tr>\n",
       "  </thead>\n",
       "  <tbody>\n",
       "    <tr>\n",
       "      <th>621170</th>\n",
       "      <td>819286</td>\n",
       "      <td>etl_2048</td>\n",
       "      <td>from tbl_156331,join tbl_156333</td>\n",
       "      <td>duration: 7598.240 ms</td>\n",
       "    </tr>\n",
       "    <tr>\n",
       "      <th>419051</th>\n",
       "      <td>24352121</td>\n",
       "      <td>dev_332</td>\n",
       "      <td>from tbl_7207,from tbl_11022</td>\n",
       "      <td>duration: 179.564 ms</td>\n",
       "    </tr>\n",
       "    <tr>\n",
       "      <th>471923</th>\n",
       "      <td>28824183</td>\n",
       "      <td>etl_2048</td>\n",
       "      <td>from tbl_83286</td>\n",
       "      <td>duration: 555.342 ms</td>\n",
       "    </tr>\n",
       "    <tr>\n",
       "      <th>364132</th>\n",
       "      <td>21408555</td>\n",
       "      <td>etl_528</td>\n",
       "      <td>from tbl_161642</td>\n",
       "      <td>duration: 57.124 ms</td>\n",
       "    </tr>\n",
       "    <tr>\n",
       "      <th>185219</th>\n",
       "      <td>11870777</td>\n",
       "      <td>etl_2048</td>\n",
       "      <td>from tbl_176470</td>\n",
       "      <td>duration: 1407.468 ms</td>\n",
       "    </tr>\n",
       "    <tr>\n",
       "      <th>554888</th>\n",
       "      <td>752123</td>\n",
       "      <td>etl_2048</td>\n",
       "      <td>from tbl_88666</td>\n",
       "      <td>duration: 49.775 ms</td>\n",
       "    </tr>\n",
       "    <tr>\n",
       "      <th>104679</th>\n",
       "      <td>22686752</td>\n",
       "      <td>etl_1151</td>\n",
       "      <td>from tbl_10028</td>\n",
       "      <td>duration: 389.451 ms</td>\n",
       "    </tr>\n",
       "    <tr>\n",
       "      <th>244662</th>\n",
       "      <td>7285608</td>\n",
       "      <td>etl_2048</td>\n",
       "      <td>from tbl_47222</td>\n",
       "      <td>duration: 28.671 ms</td>\n",
       "    </tr>\n",
       "    <tr>\n",
       "      <th>474319</th>\n",
       "      <td>21152966</td>\n",
       "      <td>etl_1151</td>\n",
       "      <td>from tbl_21412</td>\n",
       "      <td>duration: 1270.793 ms</td>\n",
       "    </tr>\n",
       "    <tr>\n",
       "      <th>37671</th>\n",
       "      <td>23949395</td>\n",
       "      <td>etl_1151</td>\n",
       "      <td>into tbl_147243,from tbl_149109</td>\n",
       "      <td>NaN</td>\n",
       "    </tr>\n",
       "  </tbody>\n",
       "</table>\n",
       "</div>"
      ],
      "text/plain": [
       "              rn   loguser                            query  \\\n",
       "621170    819286  etl_2048  from tbl_156331,join tbl_156333   \n",
       "419051  24352121   dev_332     from tbl_7207,from tbl_11022   \n",
       "471923  28824183  etl_2048                   from tbl_83286   \n",
       "364132  21408555   etl_528                  from tbl_161642   \n",
       "185219  11870777  etl_2048                  from tbl_176470   \n",
       "554888    752123  etl_2048                   from tbl_88666   \n",
       "104679  22686752  etl_1151                   from tbl_10028   \n",
       "244662   7285608  etl_2048                   from tbl_47222   \n",
       "474319  21152966  etl_1151                   from tbl_21412   \n",
       "37671   23949395  etl_1151  into tbl_147243,from tbl_149109   \n",
       "\n",
       "                     duration  \n",
       "621170  duration: 7598.240 ms  \n",
       "419051   duration: 179.564 ms  \n",
       "471923   duration: 555.342 ms  \n",
       "364132    duration: 57.124 ms  \n",
       "185219  duration: 1407.468 ms  \n",
       "554888    duration: 49.775 ms  \n",
       "104679   duration: 389.451 ms  \n",
       "244662    duration: 28.671 ms  \n",
       "474319  duration: 1270.793 ms  \n",
       "37671                     NaN  "
      ]
     },
     "execution_count": 7,
     "metadata": {},
     "output_type": "execute_result"
    }
   ],
   "source": [
    "log_duration.sample(10, random_state=123)"
   ]
  },
  {
   "cell_type": "markdown",
   "id": "23dc26fe",
   "metadata": {},
   "source": [
    "Посмотрим общую информацию датасета `log`:"
   ]
  },
  {
   "cell_type": "code",
   "execution_count": 8,
   "id": "e69fc7e5",
   "metadata": {},
   "outputs": [
    {
     "name": "stdout",
     "output_type": "stream",
     "text": [
      "<class 'pandas.core.frame.DataFrame'>\n",
      "RangeIndex: 641138 entries, 0 to 641137\n",
      "Data columns (total 3 columns):\n",
      " #   Column   Non-Null Count   Dtype \n",
      "---  ------   --------------   ----- \n",
      " 0   rn       641138 non-null  int64 \n",
      " 1   loguser  641138 non-null  object\n",
      " 2   query    641138 non-null  object\n",
      "dtypes: int64(1), object(2)\n",
      "memory usage: 14.7+ MB\n"
     ]
    }
   ],
   "source": [
    "log.info()"
   ]
  },
  {
   "cell_type": "markdown",
   "id": "33716abe",
   "metadata": {},
   "source": [
    " Мы видим, что в таблице 3 столбца и 641138 строк, пропуски отсутствуют.  "
   ]
  },
  {
   "cell_type": "markdown",
   "id": "0185d076",
   "metadata": {},
   "source": [
    "Посмотрим общую информацию датасета `log_duration`:"
   ]
  },
  {
   "cell_type": "code",
   "execution_count": 9,
   "id": "394e9661",
   "metadata": {},
   "outputs": [
    {
     "name": "stdout",
     "output_type": "stream",
     "text": [
      "<class 'pandas.core.frame.DataFrame'>\n",
      "RangeIndex: 630078 entries, 0 to 630077\n",
      "Data columns (total 4 columns):\n",
      " #   Column    Non-Null Count   Dtype \n",
      "---  ------    --------------   ----- \n",
      " 0   rn        630078 non-null  int64 \n",
      " 1   loguser   630078 non-null  object\n",
      " 2   query     630078 non-null  object\n",
      " 3   duration  557929 non-null  object\n",
      "dtypes: int64(1), object(3)\n",
      "memory usage: 19.2+ MB\n"
     ]
    }
   ],
   "source": [
    "log_duration.info()"
   ]
  },
  {
   "cell_type": "markdown",
   "id": "35e9ada8",
   "metadata": {},
   "source": [
    "Проверим сколько записей в этой колонке `duration` датасета `log_duration` отсутствует."
   ]
  },
  {
   "cell_type": "code",
   "execution_count": 10,
   "id": "8300cb78",
   "metadata": {},
   "outputs": [
    {
     "data": {
      "text/plain": [
       "72149"
      ]
     },
     "execution_count": 10,
     "metadata": {},
     "output_type": "execute_result"
    }
   ],
   "source": [
    "log_duration.duration.isna().sum()"
   ]
  },
  {
   "cell_type": "markdown",
   "id": "0d733f23",
   "metadata": {},
   "source": [
    "В таблице мы видим 4 столбца, 630078 строк, в столбце `duration`отсутствует 72149 записей.  "
   ]
  },
  {
   "cell_type": "markdown",
   "id": "f0634ba3",
   "metadata": {},
   "source": [
    "## Найдём высоконагруженные “горячие” объекты хранилища данных и спрогнозируем потенциальный рост нагрузки."
   ]
  },
  {
   "cell_type": "markdown",
   "id": "4ccfad3e",
   "metadata": {},
   "source": [
    "[К началу тетрадки](#intro)"
   ]
  },
  {
   "cell_type": "markdown",
   "id": "5c076f9b",
   "metadata": {},
   "source": [
    "Для реализации этой задачи, нам необходимо ответить на несколько вопросов или разбить на несколько подзадач:"
   ]
  },
  {
   "cell_type": "markdown",
   "id": "7ef77b32",
   "metadata": {},
   "source": [
    "### Найдём таблицы, в которые записываются данные (кем угодно), но которые не читаются разработчиками, ранжировать по степени «неиспользуемости»\n"
   ]
  },
  {
   "cell_type": "markdown",
   "id": "af3433af",
   "metadata": {},
   "source": [
    "Для решения этой задачи будем использовать данные, представленные в датафрейме `log`. Ещё раз посмотрим эту таблицу(первые 5 строк):"
   ]
  },
  {
   "cell_type": "code",
   "execution_count": 11,
   "id": "57814a19",
   "metadata": {},
   "outputs": [
    {
     "data": {
      "text/html": [
       "<div>\n",
       "<style scoped>\n",
       "    .dataframe tbody tr th:only-of-type {\n",
       "        vertical-align: middle;\n",
       "    }\n",
       "\n",
       "    .dataframe tbody tr th {\n",
       "        vertical-align: top;\n",
       "    }\n",
       "\n",
       "    .dataframe thead th {\n",
       "        text-align: right;\n",
       "    }\n",
       "</style>\n",
       "<table border=\"1\" class=\"dataframe\">\n",
       "  <thead>\n",
       "    <tr style=\"text-align: right;\">\n",
       "      <th></th>\n",
       "      <th>rn</th>\n",
       "      <th>loguser</th>\n",
       "      <th>query</th>\n",
       "    </tr>\n",
       "  </thead>\n",
       "  <tbody>\n",
       "    <tr>\n",
       "      <th>0</th>\n",
       "      <td>2530</td>\n",
       "      <td>etl_2048</td>\n",
       "      <td>from tbl_157224,join tbl_157223</td>\n",
       "    </tr>\n",
       "    <tr>\n",
       "      <th>1</th>\n",
       "      <td>5658</td>\n",
       "      <td>etl_2048</td>\n",
       "      <td>from tbl_195789,join tbl_195791</td>\n",
       "    </tr>\n",
       "    <tr>\n",
       "      <th>2</th>\n",
       "      <td>14087</td>\n",
       "      <td>etl_2048</td>\n",
       "      <td>from tbl_144504,join tbl_144505</td>\n",
       "    </tr>\n",
       "    <tr>\n",
       "      <th>3</th>\n",
       "      <td>1272</td>\n",
       "      <td>etl_1151</td>\n",
       "      <td>JOIN tbl_17535,join tbl_21652,JOIN tbl_26976,f...</td>\n",
       "    </tr>\n",
       "    <tr>\n",
       "      <th>4</th>\n",
       "      <td>9974</td>\n",
       "      <td>etl_1151</td>\n",
       "      <td>from tbl_8053,join tbl_9874,join tbl_10303,int...</td>\n",
       "    </tr>\n",
       "  </tbody>\n",
       "</table>\n",
       "</div>"
      ],
      "text/plain": [
       "      rn   loguser                                              query\n",
       "0   2530  etl_2048                    from tbl_157224,join tbl_157223\n",
       "1   5658  etl_2048                    from tbl_195789,join tbl_195791\n",
       "2  14087  etl_2048                    from tbl_144504,join tbl_144505\n",
       "3   1272  etl_1151  JOIN tbl_17535,join tbl_21652,JOIN tbl_26976,f...\n",
       "4   9974  etl_1151  from tbl_8053,join tbl_9874,join tbl_10303,int..."
      ]
     },
     "execution_count": 11,
     "metadata": {},
     "output_type": "execute_result"
    }
   ],
   "source": [
    "log.head()"
   ]
  },
  {
   "cell_type": "markdown",
   "id": "bc6d63e7",
   "metadata": {},
   "source": [
    "Мы видим, что в столбце `query` используются утилиты разных регистров. Преобразуем данные  в столбце и приведём их к нижнему регистру:"
   ]
  },
  {
   "cell_type": "code",
   "execution_count": 12,
   "id": "2463ffc7",
   "metadata": {},
   "outputs": [],
   "source": [
    "log['query'] = log['query'].str.lower()"
   ]
  },
  {
   "cell_type": "markdown",
   "id": "3b7c3954",
   "metadata": {},
   "source": [
    "Найдем уникальные значения в столбце query:"
   ]
  },
  {
   "cell_type": "code",
   "execution_count": 13,
   "id": "560a7e9e",
   "metadata": {},
   "outputs": [
    {
     "data": {
      "text/plain": [
       "641138"
      ]
     },
     "execution_count": 13,
     "metadata": {},
     "output_type": "execute_result"
    }
   ],
   "source": [
    "log['query'].value_counts().sum()"
   ]
  },
  {
   "cell_type": "markdown",
   "id": "56df12ad",
   "metadata": {},
   "source": [
    "Мы видим что в столбце `query` 66735 уникальных строк."
   ]
  },
  {
   "cell_type": "markdown",
   "id": "3d7db285",
   "metadata": {},
   "source": [
    "Но в нашей задаче нужно найти данные, которые только записываются, т.к. за эту работу отвечает утилита из SQL -\"INTO', значит будем отбирать данные,где есть \"INTO\":"
   ]
  },
  {
   "cell_type": "code",
   "execution_count": 14,
   "id": "f769e450",
   "metadata": {},
   "outputs": [],
   "source": [
    "log_opt=log[log['query'].str.contains(\"into\", regex=False)] # добавляем regex=False, т.к с точки зрения производительности\n",
    "                                                            # поиск по регулярному выражению медленнее, чем поиск подстроки"
   ]
  },
  {
   "cell_type": "code",
   "execution_count": 15,
   "id": "fedd8707",
   "metadata": {},
   "outputs": [
    {
     "data": {
      "text/plain": [
       "190710"
      ]
     },
     "execution_count": 15,
     "metadata": {},
     "output_type": "execute_result"
    }
   ],
   "source": [
    "log_opt['query'].value_counts().sum()"
   ]
  },
  {
   "cell_type": "markdown",
   "id": "84f3d4d9",
   "metadata": {},
   "source": [
    "Мы отобрали данные, которые записываются в таблицу, у нас таких 190710 уникальных записей.Посмотрим их:"
   ]
  },
  {
   "cell_type": "code",
   "execution_count": 16,
   "id": "bea169a9",
   "metadata": {},
   "outputs": [
    {
     "data": {
      "text/plain": [
       "etl_1151    111213\n",
       "etl_2048     52925\n",
       "dev_1586     19482\n",
       "dev_332       4130\n",
       "etl_1157       826\n",
       "etl_1162       619\n",
       "etl_1358       467\n",
       "etl_1330       320\n",
       "dev_473        307\n",
       "dev_1136       232\n",
       "dev_136         73\n",
       "dev_2026        28\n",
       "dev_2192        20\n",
       "dev_1881        20\n",
       "dev_1828        17\n",
       "dev_554         13\n",
       "dev_1714         6\n",
       "etl_1165         6\n",
       "dev_114          2\n",
       "dev_2113         2\n",
       "dev_390          1\n",
       "dev_1820         1\n",
       "Name: loguser, dtype: int64"
      ]
     },
     "execution_count": 16,
     "metadata": {},
     "output_type": "execute_result"
    }
   ],
   "source": [
    "log_opt['loguser'].value_counts()"
   ]
  },
  {
   "cell_type": "markdown",
   "id": "3de3824f",
   "metadata": {},
   "source": [
    "Но по условию задачи нам нужны данные, которые не учитываются разработчиками. В столбце `loguser`мы будем искать только данные, которые начинаются с \"etl_\"."
   ]
  },
  {
   "cell_type": "code",
   "execution_count": 17,
   "id": "57a63989",
   "metadata": {},
   "outputs": [],
   "source": [
    "log_opt=log_opt[log_opt['loguser'].str.contains(r'\\betl_')]"
   ]
  },
  {
   "cell_type": "code",
   "execution_count": 18,
   "id": "85771f69",
   "metadata": {},
   "outputs": [
    {
     "data": {
      "text/plain": [
       "166376"
      ]
     },
     "execution_count": 18,
     "metadata": {},
     "output_type": "execute_result"
    }
   ],
   "source": [
    "log_opt['loguser'].value_counts().sum()"
   ]
  },
  {
   "cell_type": "markdown",
   "id": "12459bcf",
   "metadata": {},
   "source": [
    "У нас получилось 166376 таких записей, которые не читаются разработчиками.Посмотрим их:"
   ]
  },
  {
   "cell_type": "code",
   "execution_count": 19,
   "id": "9e327ac7",
   "metadata": {},
   "outputs": [
    {
     "data": {
      "text/plain": [
       "etl_1151    111213\n",
       "etl_2048     52925\n",
       "etl_1157       826\n",
       "etl_1162       619\n",
       "etl_1358       467\n",
       "etl_1330       320\n",
       "etl_1165         6\n",
       "Name: loguser, dtype: int64"
      ]
     },
     "execution_count": 19,
     "metadata": {},
     "output_type": "execute_result"
    }
   ],
   "source": [
    "log_opt['loguser'].value_counts()"
   ]
  },
  {
   "cell_type": "markdown",
   "id": "81f97b56",
   "metadata": {},
   "source": [
    "Теперь посмотрим нашу финальную таблицу:"
   ]
  },
  {
   "cell_type": "code",
   "execution_count": 20,
   "id": "89b09f49",
   "metadata": {},
   "outputs": [
    {
     "data": {
      "text/html": [
       "<div>\n",
       "<style scoped>\n",
       "    .dataframe tbody tr th:only-of-type {\n",
       "        vertical-align: middle;\n",
       "    }\n",
       "\n",
       "    .dataframe tbody tr th {\n",
       "        vertical-align: top;\n",
       "    }\n",
       "\n",
       "    .dataframe thead th {\n",
       "        text-align: right;\n",
       "    }\n",
       "</style>\n",
       "<table border=\"1\" class=\"dataframe\">\n",
       "  <thead>\n",
       "    <tr style=\"text-align: right;\">\n",
       "      <th></th>\n",
       "      <th>rn</th>\n",
       "      <th>loguser</th>\n",
       "      <th>query</th>\n",
       "    </tr>\n",
       "  </thead>\n",
       "  <tbody>\n",
       "    <tr>\n",
       "      <th>3</th>\n",
       "      <td>1272</td>\n",
       "      <td>etl_1151</td>\n",
       "      <td>join tbl_17535,join tbl_21652,join tbl_26976,f...</td>\n",
       "    </tr>\n",
       "    <tr>\n",
       "      <th>4</th>\n",
       "      <td>9974</td>\n",
       "      <td>etl_1151</td>\n",
       "      <td>from tbl_8053,join tbl_9874,join tbl_10303,int...</td>\n",
       "    </tr>\n",
       "    <tr>\n",
       "      <th>15</th>\n",
       "      <td>871</td>\n",
       "      <td>etl_1151</td>\n",
       "      <td>join tbl_10099,join tbl_10099,join tbl_19156,j...</td>\n",
       "    </tr>\n",
       "    <tr>\n",
       "      <th>18</th>\n",
       "      <td>464</td>\n",
       "      <td>etl_1151</td>\n",
       "      <td>join tbl_20055,from tbl_40941,from tbl_379369,...</td>\n",
       "    </tr>\n",
       "    <tr>\n",
       "      <th>22</th>\n",
       "      <td>8033</td>\n",
       "      <td>etl_1151</td>\n",
       "      <td>join tbl_8053,join tbl_10303,join tbl_14638,jo...</td>\n",
       "    </tr>\n",
       "    <tr>\n",
       "      <th>...</th>\n",
       "      <td>...</td>\n",
       "      <td>...</td>\n",
       "      <td>...</td>\n",
       "    </tr>\n",
       "    <tr>\n",
       "      <th>641102</th>\n",
       "      <td>989796</td>\n",
       "      <td>etl_1151</td>\n",
       "      <td>into tbl_196086,join tbl_196421,from tbl_196580</td>\n",
       "    </tr>\n",
       "    <tr>\n",
       "      <th>641103</th>\n",
       "      <td>588404</td>\n",
       "      <td>etl_1151</td>\n",
       "      <td>into tbl_341408</td>\n",
       "    </tr>\n",
       "    <tr>\n",
       "      <th>641105</th>\n",
       "      <td>385606</td>\n",
       "      <td>etl_1358</td>\n",
       "      <td>into tbl_22268</td>\n",
       "    </tr>\n",
       "    <tr>\n",
       "      <th>641126</th>\n",
       "      <td>326792</td>\n",
       "      <td>etl_2048</td>\n",
       "      <td>into tbl_119678,join tbl_119678,from tbl_119679</td>\n",
       "    </tr>\n",
       "    <tr>\n",
       "      <th>641136</th>\n",
       "      <td>381871</td>\n",
       "      <td>etl_2048</td>\n",
       "      <td>into tbl_51993,join tbl_51993,from tbl_51992</td>\n",
       "    </tr>\n",
       "  </tbody>\n",
       "</table>\n",
       "<p>166376 rows × 3 columns</p>\n",
       "</div>"
      ],
      "text/plain": [
       "            rn   loguser                                              query\n",
       "3         1272  etl_1151  join tbl_17535,join tbl_21652,join tbl_26976,f...\n",
       "4         9974  etl_1151  from tbl_8053,join tbl_9874,join tbl_10303,int...\n",
       "15         871  etl_1151  join tbl_10099,join tbl_10099,join tbl_19156,j...\n",
       "18         464  etl_1151  join tbl_20055,from tbl_40941,from tbl_379369,...\n",
       "22        8033  etl_1151  join tbl_8053,join tbl_10303,join tbl_14638,jo...\n",
       "...        ...       ...                                                ...\n",
       "641102  989796  etl_1151    into tbl_196086,join tbl_196421,from tbl_196580\n",
       "641103  588404  etl_1151                                    into tbl_341408\n",
       "641105  385606  etl_1358                                     into tbl_22268\n",
       "641126  326792  etl_2048    into tbl_119678,join tbl_119678,from tbl_119679\n",
       "641136  381871  etl_2048       into tbl_51993,join tbl_51993,from tbl_51992\n",
       "\n",
       "[166376 rows x 3 columns]"
      ]
     },
     "execution_count": 20,
     "metadata": {},
     "output_type": "execute_result"
    }
   ],
   "source": [
    "log_opt"
   ]
  },
  {
   "cell_type": "markdown",
   "id": "bdb14859",
   "metadata": {},
   "source": [
    "У нас получился датафрейм, который удовлетворяет условию задачи. Теперь нам нужно из столбца `query` вытащить все таблицы ( tbl_...):"
   ]
  },
  {
   "cell_type": "code",
   "execution_count": 21,
   "id": "1dd6f2e1",
   "metadata": {},
   "outputs": [],
   "source": [
    "log_opt['query']=log_opt['query'].apply(lambda x: x.replace('join', '').replace('from', '').replace('into', '').replace(' ', ''))\n",
    "log_tabl=log_opt['query'].reset_index() # работаем с одним столбцом\n",
    "log_tabl=log_tabl.assign(query=log_opt['query'].str.split(',')).explode('query') #разделяем строку, в качестве разделителя запятая\n",
    "log_tabl = log_tabl[log_tabl['query'].notna()] # удаляем строки с Nan"
   ]
  },
  {
   "cell_type": "markdown",
   "id": "46545c99",
   "metadata": {},
   "source": [
    "Посмотрим что получилось  и ранжируем их по убыванию:"
   ]
  },
  {
   "cell_type": "code",
   "execution_count": 22,
   "id": "30167b32",
   "metadata": {},
   "outputs": [
    {
     "data": {
      "text/plain": [
       "tbl_27182     2288\n",
       "tbl_20007     1873\n",
       "tbl_14714     1873\n",
       "tbl_26976     1020\n",
       "tbl_225891     987\n",
       "              ... \n",
       "tbl_36320        1\n",
       "tbl_207833       1\n",
       "tbl_176008       1\n",
       "tbl_94241        1\n",
       "tbl_193453       1\n",
       "Name: query, Length: 28371, dtype: int64"
      ]
     },
     "execution_count": 22,
     "metadata": {},
     "output_type": "execute_result"
    }
   ],
   "source": [
    "log_tabl['query'].value_counts()"
   ]
  },
  {
   "cell_type": "markdown",
   "id": "697bc79e",
   "metadata": {},
   "source": [
    "Найдём общее количество запросов к таблицам:"
   ]
  },
  {
   "cell_type": "code",
   "execution_count": 23,
   "id": "027cf207",
   "metadata": {},
   "outputs": [
    {
     "data": {
      "text/plain": [
       "228540"
      ]
     },
     "execution_count": 23,
     "metadata": {},
     "output_type": "execute_result"
    }
   ],
   "source": [
    "log_tabl['query'].value_counts().sum()"
   ]
  },
  {
   "cell_type": "markdown",
   "id": "1d42ae51",
   "metadata": {},
   "source": [
    "У нас получилось 228540 различных запросов к уникальным таблицам, которые не читаются разработчиками."
   ]
  },
  {
   "cell_type": "markdown",
   "id": "2b8f1b1f",
   "metadata": {},
   "source": [
    "Посмотрим список самых  нечитаемых разработчиками таблиц:"
   ]
  },
  {
   "cell_type": "code",
   "execution_count": 24,
   "id": "da10f801",
   "metadata": {},
   "outputs": [
    {
     "data": {
      "text/plain": [
       "tbl_27182     2288\n",
       "tbl_20007     1873\n",
       "tbl_14714     1873\n",
       "tbl_26976     1020\n",
       "tbl_225891     987\n",
       "tbl_10099      975\n",
       "tbl_20055      960\n",
       "tbl_19156      953\n",
       "tbl_12737      952\n",
       "tbl_9859       909\n",
       "Name: query, dtype: int64"
      ]
     },
     "metadata": {},
     "output_type": "display_data"
    }
   ],
   "source": [
    "display(log_tabl['query'].value_counts().head(10))"
   ]
  },
  {
   "cell_type": "markdown",
   "id": "2bc8b518",
   "metadata": {},
   "source": [
    "Посмотрим структуру в процентах:"
   ]
  },
  {
   "cell_type": "code",
   "execution_count": 25,
   "id": "b3119a77",
   "metadata": {},
   "outputs": [
    {
     "data": {
      "text/plain": [
       "tbl_27182     0.010011\n",
       "tbl_20007     0.008196\n",
       "tbl_14714     0.008196\n",
       "tbl_26976     0.004463\n",
       "tbl_225891    0.004319\n",
       "tbl_10099     0.004266\n",
       "tbl_20055     0.004201\n",
       "tbl_19156     0.004170\n",
       "tbl_12737     0.004166\n",
       "tbl_9859      0.003977\n",
       "Name: query, dtype: float64"
      ]
     },
     "metadata": {},
     "output_type": "display_data"
    }
   ],
   "source": [
    "display(log_tabl['query'].value_counts(normalize=True).head(10))"
   ]
  },
  {
   "cell_type": "markdown",
   "id": "eb3ef22a",
   "metadata": {},
   "source": [
    "Найдём количество уникальных таблиц,в которые записываются данные кем угодно,но не читаются разработчиками:"
   ]
  },
  {
   "cell_type": "code",
   "execution_count": 26,
   "id": "fc67fc56",
   "metadata": {},
   "outputs": [
    {
     "data": {
      "text/plain": [
       "28371"
      ]
     },
     "execution_count": 26,
     "metadata": {},
     "output_type": "execute_result"
    }
   ],
   "source": [
    "log_tabl['query'].nunique()"
   ]
  },
  {
   "cell_type": "markdown",
   "id": "c786ec7d",
   "metadata": {},
   "source": [
    "Общее количество уникальных таблиц, в которые записываются данные, но не читаются разработчиками составляет 28371 ед."
   ]
  },
  {
   "cell_type": "markdown",
   "id": "55c12f29",
   "metadata": {},
   "source": [
    "#### Вывод"
   ]
  },
  {
   "cell_type": "markdown",
   "id": "957c5f8c",
   "metadata": {},
   "source": [
    "**В нашем исследовании мы получили следующие результаты :**  \n",
    "\n",
    "- Общее количество уникальных таблиц, в которые записываются данные (кем угодно), но не читаются разработчиками составляет 28371 ед.  \n",
    "\n",
    "- Общее количество запросов к таблицам составило 228540 запросов   \n",
    "\n",
    "- Самыми высоконагруженными “горячими” объектами хранилища данных, в которые записываются данные кем угодно, но не читаются разработчиками стала тройка лидеров, таблицы:   \n",
    "  \n",
    "    - tbl_27182 (2288 запросов или 1%)\n",
    "    - tbl_14714 (1873 запросов или 0,8%)\n",
    "    - tbl_20007 (1873 запросов или 0,8%)"
   ]
  },
  {
   "cell_type": "markdown",
   "id": "d0e36016",
   "metadata": {},
   "source": [
    "### Поиск тяжелых объектов"
   ]
  },
  {
   "cell_type": "markdown",
   "id": "7c753a79",
   "metadata": {},
   "source": [
    "[К началу тетрадки](#intro)"
   ]
  },
  {
   "cell_type": "code",
   "execution_count": 28,
   "id": "9c15acf1",
   "metadata": {},
   "outputs": [
    {
     "name": "stdout",
     "output_type": "stream",
     "text": [
      "<class 'pandas.core.frame.DataFrame'>\n",
      "Int64Index: 556590 entries, 0 to 630077\n",
      "Data columns (total 5 columns):\n",
      " #   Column    Non-Null Count   Dtype  \n",
      "---  ------    --------------   -----  \n",
      " 0   rn        556590 non-null  int64  \n",
      " 1   loguser   556590 non-null  object \n",
      " 2   query     556590 non-null  object \n",
      " 3   duration  556590 non-null  float64\n",
      " 4   tbls      556590 non-null  int64  \n",
      "dtypes: float64(1), int64(2), object(2)\n",
      "memory usage: 25.5+ MB\n"
     ]
    }
   ],
   "source": [
    "#избавимся от пропусков и дубликатов\n",
    "df=log_duration.dropna().drop_duplicates(subset=['loguser','query','duration']) \n",
    "#Поправим duration чтобы там содержалось количество милисекунд тип float\n",
    "df['duration']=df.duration.str.split().str[1] \n",
    "df['duration']=df['duration'].astype('float') \n",
    "#к нижнему регистру query\n",
    "df['query']=df['query'].str.lower()\n",
    "#добавим столбец в котором количество таблиц в запросе\n",
    "df['tbls']=df['query'].str.count(',')+1\n",
    "pd.options.display.float_format = '{:,.3f}'.format\n",
    "df.info()"
   ]
  },
  {
   "cell_type": "code",
   "execution_count": 32,
   "id": "dc898171",
   "metadata": {},
   "outputs": [
    {
     "data": {
      "text/html": [
       "<div>\n",
       "<style scoped>\n",
       "    .dataframe tbody tr th:only-of-type {\n",
       "        vertical-align: middle;\n",
       "    }\n",
       "\n",
       "    .dataframe tbody tr th {\n",
       "        vertical-align: top;\n",
       "    }\n",
       "\n",
       "    .dataframe thead th {\n",
       "        text-align: right;\n",
       "    }\n",
       "</style>\n",
       "<table border=\"1\" class=\"dataframe\">\n",
       "  <thead>\n",
       "    <tr style=\"text-align: right;\">\n",
       "      <th></th>\n",
       "      <th>tbls</th>\n",
       "      <th>%</th>\n",
       "    </tr>\n",
       "  </thead>\n",
       "  <tbody>\n",
       "    <tr>\n",
       "      <th>1</th>\n",
       "      <td>357402</td>\n",
       "      <td>64.21%</td>\n",
       "    </tr>\n",
       "    <tr>\n",
       "      <th>2</th>\n",
       "      <td>111585</td>\n",
       "      <td>20.05%</td>\n",
       "    </tr>\n",
       "    <tr>\n",
       "      <th>3</th>\n",
       "      <td>84805</td>\n",
       "      <td>15.24%</td>\n",
       "    </tr>\n",
       "    <tr>\n",
       "      <th>4</th>\n",
       "      <td>822</td>\n",
       "      <td>0.15%</td>\n",
       "    </tr>\n",
       "    <tr>\n",
       "      <th>6</th>\n",
       "      <td>573</td>\n",
       "      <td>0.10%</td>\n",
       "    </tr>\n",
       "  </tbody>\n",
       "</table>\n",
       "</div>"
      ],
      "text/plain": [
       "     tbls      %\n",
       "1  357402 64.21%\n",
       "2  111585 20.05%\n",
       "3   84805 15.24%\n",
       "4     822  0.15%\n",
       "6     573  0.10%"
      ]
     },
     "metadata": {},
     "output_type": "display_data"
    }
   ],
   "source": [
    "with pd.option_context('display.float_format', '{:0.2%}'.format):\n",
    "    display(df.tbls.value_counts().to_frame().join(df.tbls.value_counts(normalize=True).rename('%')).head())"
   ]
  },
  {
   "cell_type": "markdown",
   "id": "39169576",
   "metadata": {},
   "source": [
    "более 64% запросов содержат обращение только к одному объекту.\n",
    "Посмотрим какие из них выполнялись дольше всего"
   ]
  },
  {
   "cell_type": "code",
   "execution_count": 33,
   "id": "0b37b1b0",
   "metadata": {},
   "outputs": [
    {
     "data": {
      "text/html": [
       "<div>\n",
       "<style scoped>\n",
       "    .dataframe tbody tr th:only-of-type {\n",
       "        vertical-align: middle;\n",
       "    }\n",
       "\n",
       "    .dataframe tbody tr th {\n",
       "        vertical-align: top;\n",
       "    }\n",
       "\n",
       "    .dataframe thead tr th {\n",
       "        text-align: left;\n",
       "    }\n",
       "\n",
       "    .dataframe thead tr:last-of-type th {\n",
       "        text-align: right;\n",
       "    }\n",
       "</style>\n",
       "<table border=\"1\" class=\"dataframe\">\n",
       "  <thead>\n",
       "    <tr>\n",
       "      <th></th>\n",
       "      <th colspan=\"5\" halign=\"left\">duration</th>\n",
       "    </tr>\n",
       "    <tr>\n",
       "      <th></th>\n",
       "      <th>min</th>\n",
       "      <th>mean</th>\n",
       "      <th>median</th>\n",
       "      <th>max</th>\n",
       "      <th>count</th>\n",
       "    </tr>\n",
       "    <tr>\n",
       "      <th>query</th>\n",
       "      <th></th>\n",
       "      <th></th>\n",
       "      <th></th>\n",
       "      <th></th>\n",
       "      <th></th>\n",
       "    </tr>\n",
       "  </thead>\n",
       "  <tbody>\n",
       "    <tr>\n",
       "      <th>from tbl_14996</th>\n",
       "      <td>10,666,177.688</td>\n",
       "      <td>11,117,907.134</td>\n",
       "      <td>11,219,406.572</td>\n",
       "      <td>11,366,637.702</td>\n",
       "      <td>4</td>\n",
       "    </tr>\n",
       "    <tr>\n",
       "      <th>from tbl_308121</th>\n",
       "      <td>2,093,212.227</td>\n",
       "      <td>4,904,726.364</td>\n",
       "      <td>4,690,881.263</td>\n",
       "      <td>9,219,758.960</td>\n",
       "      <td>25</td>\n",
       "    </tr>\n",
       "    <tr>\n",
       "      <th>from tbl_281142</th>\n",
       "      <td>2,209,101.673</td>\n",
       "      <td>2,520,295.504</td>\n",
       "      <td>2,473,347.411</td>\n",
       "      <td>3,125,306.230</td>\n",
       "      <td>7</td>\n",
       "    </tr>\n",
       "    <tr>\n",
       "      <th>from tbl_309364</th>\n",
       "      <td>2,159,433.549</td>\n",
       "      <td>2,159,433.549</td>\n",
       "      <td>2,159,433.549</td>\n",
       "      <td>2,159,433.549</td>\n",
       "      <td>1</td>\n",
       "    </tr>\n",
       "    <tr>\n",
       "      <th>from tbl_305654</th>\n",
       "      <td>1,661,187.815</td>\n",
       "      <td>1,713,216.093</td>\n",
       "      <td>1,718,636.326</td>\n",
       "      <td>1,759,824.139</td>\n",
       "      <td>3</td>\n",
       "    </tr>\n",
       "    <tr>\n",
       "      <th>from tbl_230191</th>\n",
       "      <td>3,256.432</td>\n",
       "      <td>696,912.463</td>\n",
       "      <td>874,169.431</td>\n",
       "      <td>1,623,820.663</td>\n",
       "      <td>40</td>\n",
       "    </tr>\n",
       "    <tr>\n",
       "      <th>from tbl_188049</th>\n",
       "      <td>737,207.224</td>\n",
       "      <td>738,126.174</td>\n",
       "      <td>738,126.174</td>\n",
       "      <td>739,045.124</td>\n",
       "      <td>2</td>\n",
       "    </tr>\n",
       "    <tr>\n",
       "      <th>into tbl_193385</th>\n",
       "      <td>595,636.727</td>\n",
       "      <td>722,546.576</td>\n",
       "      <td>722,546.576</td>\n",
       "      <td>849,456.424</td>\n",
       "      <td>2</td>\n",
       "    </tr>\n",
       "    <tr>\n",
       "      <th>from tbl_173857</th>\n",
       "      <td>605,915.321</td>\n",
       "      <td>805,362.717</td>\n",
       "      <td>718,979.299</td>\n",
       "      <td>1,390,661.906</td>\n",
       "      <td>16</td>\n",
       "    </tr>\n",
       "    <tr>\n",
       "      <th>from tbl_308374</th>\n",
       "      <td>1,295.314</td>\n",
       "      <td>475,775.724</td>\n",
       "      <td>622,265.276</td>\n",
       "      <td>764,159.934</td>\n",
       "      <td>39</td>\n",
       "    </tr>\n",
       "  </tbody>\n",
       "</table>\n",
       "</div>"
      ],
      "text/plain": [
       "                      duration                                               \\\n",
       "                           min           mean         median            max   \n",
       "query                                                                         \n",
       "from tbl_14996  10,666,177.688 11,117,907.134 11,219,406.572 11,366,637.702   \n",
       "from tbl_308121  2,093,212.227  4,904,726.364  4,690,881.263  9,219,758.960   \n",
       "from tbl_281142  2,209,101.673  2,520,295.504  2,473,347.411  3,125,306.230   \n",
       "from tbl_309364  2,159,433.549  2,159,433.549  2,159,433.549  2,159,433.549   \n",
       "from tbl_305654  1,661,187.815  1,713,216.093  1,718,636.326  1,759,824.139   \n",
       "from tbl_230191      3,256.432    696,912.463    874,169.431  1,623,820.663   \n",
       "from tbl_188049    737,207.224    738,126.174    738,126.174    739,045.124   \n",
       "into tbl_193385    595,636.727    722,546.576    722,546.576    849,456.424   \n",
       "from tbl_173857    605,915.321    805,362.717    718,979.299  1,390,661.906   \n",
       "from tbl_308374      1,295.314    475,775.724    622,265.276    764,159.934   \n",
       "\n",
       "                       \n",
       "                count  \n",
       "query                  \n",
       "from tbl_14996      4  \n",
       "from tbl_308121    25  \n",
       "from tbl_281142     7  \n",
       "from tbl_309364     1  \n",
       "from tbl_305654     3  \n",
       "from tbl_230191    40  \n",
       "from tbl_188049     2  \n",
       "into tbl_193385     2  \n",
       "from tbl_173857    16  \n",
       "from tbl_308374    39  "
      ]
     },
     "execution_count": 33,
     "metadata": {},
     "output_type": "execute_result"
    }
   ],
   "source": [
    "t1=df.query('tbls==1').groupby('query').agg({'duration':['min','mean','median','max','count']}).sort_values(\n",
    "        by=('duration','median'),ascending=False)\n",
    "t1.head(10)"
   ]
  },
  {
   "cell_type": "markdown",
   "id": "586a9a9d",
   "metadata": {},
   "source": [
    "Посмотрим к каким объектам обращались чаще всего"
   ]
  },
  {
   "cell_type": "code",
   "execution_count": 36,
   "id": "977a89e2",
   "metadata": {},
   "outputs": [
    {
     "data": {
      "text/html": [
       "<div>\n",
       "<style scoped>\n",
       "    .dataframe tbody tr th:only-of-type {\n",
       "        vertical-align: middle;\n",
       "    }\n",
       "\n",
       "    .dataframe tbody tr th {\n",
       "        vertical-align: top;\n",
       "    }\n",
       "\n",
       "    .dataframe thead th {\n",
       "        text-align: right;\n",
       "    }\n",
       "</style>\n",
       "<table border=\"1\" class=\"dataframe\">\n",
       "  <thead>\n",
       "    <tr style=\"text-align: right;\">\n",
       "      <th></th>\n",
       "      <th>min</th>\n",
       "      <th>mean</th>\n",
       "      <th>median</th>\n",
       "      <th>max</th>\n",
       "      <th>count</th>\n",
       "    </tr>\n",
       "    <tr>\n",
       "      <th>query</th>\n",
       "      <th></th>\n",
       "      <th></th>\n",
       "      <th></th>\n",
       "      <th></th>\n",
       "      <th></th>\n",
       "    </tr>\n",
       "  </thead>\n",
       "  <tbody>\n",
       "    <tr>\n",
       "      <th>from tbl_22189</th>\n",
       "      <td>1.583</td>\n",
       "      <td>2,872.095</td>\n",
       "      <td>9.928</td>\n",
       "      <td>477,120.281</td>\n",
       "      <td>2350</td>\n",
       "    </tr>\n",
       "    <tr>\n",
       "      <th>into tbl_24696</th>\n",
       "      <td>69.316</td>\n",
       "      <td>8,599.807</td>\n",
       "      <td>2,643.030</td>\n",
       "      <td>1,319,054.135</td>\n",
       "      <td>2198</td>\n",
       "    </tr>\n",
       "    <tr>\n",
       "      <th>from tbl_42632</th>\n",
       "      <td>11.260</td>\n",
       "      <td>17,298.764</td>\n",
       "      <td>5,691.107</td>\n",
       "      <td>489,735.869</td>\n",
       "      <td>1787</td>\n",
       "    </tr>\n",
       "    <tr>\n",
       "      <th>into tbl_44933</th>\n",
       "      <td>269.878</td>\n",
       "      <td>732.056</td>\n",
       "      <td>576.934</td>\n",
       "      <td>25,034.363</td>\n",
       "      <td>883</td>\n",
       "    </tr>\n",
       "    <tr>\n",
       "      <th>into tbl_211522</th>\n",
       "      <td>94.133</td>\n",
       "      <td>2,492.865</td>\n",
       "      <td>1,382.687</td>\n",
       "      <td>124,369.579</td>\n",
       "      <td>841</td>\n",
       "    </tr>\n",
       "    <tr>\n",
       "      <th>from tbl_33184</th>\n",
       "      <td>161.115</td>\n",
       "      <td>21,938.728</td>\n",
       "      <td>7,084.922</td>\n",
       "      <td>468,929.657</td>\n",
       "      <td>774</td>\n",
       "    </tr>\n",
       "    <tr>\n",
       "      <th>from tbl_26470</th>\n",
       "      <td>239.737</td>\n",
       "      <td>3,292.961</td>\n",
       "      <td>2,370.605</td>\n",
       "      <td>80,347.968</td>\n",
       "      <td>768</td>\n",
       "    </tr>\n",
       "    <tr>\n",
       "      <th>from tbl_20560</th>\n",
       "      <td>21.984</td>\n",
       "      <td>531.525</td>\n",
       "      <td>210.297</td>\n",
       "      <td>7,293.996</td>\n",
       "      <td>596</td>\n",
       "    </tr>\n",
       "    <tr>\n",
       "      <th>from tbl_8053</th>\n",
       "      <td>26.900</td>\n",
       "      <td>1,560.498</td>\n",
       "      <td>347.507</td>\n",
       "      <td>209,405.004</td>\n",
       "      <td>566</td>\n",
       "    </tr>\n",
       "    <tr>\n",
       "      <th>from tbl_10303</th>\n",
       "      <td>21.576</td>\n",
       "      <td>1,338.966</td>\n",
       "      <td>204.498</td>\n",
       "      <td>98,652.885</td>\n",
       "      <td>565</td>\n",
       "    </tr>\n",
       "  </tbody>\n",
       "</table>\n",
       "</div>"
      ],
      "text/plain": [
       "                    min       mean    median           max  count\n",
       "query                                                            \n",
       "from tbl_22189    1.583  2,872.095     9.928   477,120.281   2350\n",
       "into tbl_24696   69.316  8,599.807 2,643.030 1,319,054.135   2198\n",
       "from tbl_42632   11.260 17,298.764 5,691.107   489,735.869   1787\n",
       "into tbl_44933  269.878    732.056   576.934    25,034.363    883\n",
       "into tbl_211522  94.133  2,492.865 1,382.687   124,369.579    841\n",
       "from tbl_33184  161.115 21,938.728 7,084.922   468,929.657    774\n",
       "from tbl_26470  239.737  3,292.961 2,370.605    80,347.968    768\n",
       "from tbl_20560   21.984    531.525   210.297     7,293.996    596\n",
       "from tbl_8053    26.900  1,560.498   347.507   209,405.004    566\n",
       "from tbl_10303   21.576  1,338.966   204.498    98,652.885    565"
      ]
     },
     "execution_count": 36,
     "metadata": {},
     "output_type": "execute_result"
    }
   ],
   "source": [
    "t1.sort_values(by='count',ascending=False).head(10)"
   ]
  },
  {
   "cell_type": "markdown",
   "id": "6f9a290f",
   "metadata": {},
   "source": [
    "Из таблицы видно что время выполнения запросов очень сильно варьируются. Рассмотрим выполнение запроса \"from tbl_42632\" (3 место в таблице выше)"
   ]
  },
  {
   "cell_type": "code",
   "execution_count": 72,
   "id": "d95240eb",
   "metadata": {},
   "outputs": [
    {
     "data": {
      "image/png": "[encoded data removed]",
      "text/plain": [
       "<Figure size 640x480 with 1 Axes>"
      ]
     },
     "metadata": {},
     "output_type": "display_data"
    },
    {
     "data": {
      "image/png": "[encoded data removed]",
      "text/plain": [
       "<Figure size 640x480 with 1 Axes>"
      ]
     },
     "metadata": {},
     "output_type": "display_data"
    }
   ],
   "source": [
    "import seaborn as sns\n",
    "import matplotlib.pyplot as plt\n",
    "sns.histplot(df.query('query==\"from tbl_42632\"').duration,bins=200)\n",
    "plt.title(\"Гистограмма времени выполнения запроса from tbl_42632\")\n",
    "plt.show()\n",
    "sns.histplot(df.query('query==\"from tbl_42632\" and duration>1000').duration,bins=200)\n",
    "plt.title(\"Гистограмма времени выполнения запроса from tbl_42632\");"
   ]
  },
  {
   "cell_type": "markdown",
   "id": "e7c905ef",
   "metadata": {},
   "source": [
    "Выясним какие запросы больше всего загружали систему "
   ]
  },
  {
   "cell_type": "code",
   "execution_count": 44,
   "id": "430ef0ca",
   "metadata": {},
   "outputs": [
    {
     "data": {
      "text/html": [
       "<div>\n",
       "<style scoped>\n",
       "    .dataframe tbody tr th:only-of-type {\n",
       "        vertical-align: middle;\n",
       "    }\n",
       "\n",
       "    .dataframe tbody tr th {\n",
       "        vertical-align: top;\n",
       "    }\n",
       "\n",
       "    .dataframe thead tr th {\n",
       "        text-align: left;\n",
       "    }\n",
       "\n",
       "    .dataframe thead tr:last-of-type th {\n",
       "        text-align: right;\n",
       "    }\n",
       "</style>\n",
       "<table border=\"1\" class=\"dataframe\">\n",
       "  <thead>\n",
       "    <tr>\n",
       "      <th></th>\n",
       "      <th colspan=\"6\" halign=\"left\">duration</th>\n",
       "    </tr>\n",
       "    <tr>\n",
       "      <th></th>\n",
       "      <th>min</th>\n",
       "      <th>mean</th>\n",
       "      <th>median</th>\n",
       "      <th>max</th>\n",
       "      <th>count</th>\n",
       "      <th>sum</th>\n",
       "    </tr>\n",
       "    <tr>\n",
       "      <th>query</th>\n",
       "      <th></th>\n",
       "      <th></th>\n",
       "      <th></th>\n",
       "      <th></th>\n",
       "      <th></th>\n",
       "      <th></th>\n",
       "    </tr>\n",
       "  </thead>\n",
       "  <tbody>\n",
       "    <tr>\n",
       "      <th>from tbl_7207,from tbl_11022</th>\n",
       "      <td>35.139</td>\n",
       "      <td>8,066.081</td>\n",
       "      <td>259.701</td>\n",
       "      <td>1,252,878.514</td>\n",
       "      <td>26765</td>\n",
       "      <td>215,888,663.857</td>\n",
       "    </tr>\n",
       "    <tr>\n",
       "      <th>from tbl_308121</th>\n",
       "      <td>2,093,212.227</td>\n",
       "      <td>4,904,726.364</td>\n",
       "      <td>4,690,881.263</td>\n",
       "      <td>9,219,758.960</td>\n",
       "      <td>25</td>\n",
       "      <td>122,618,159.101</td>\n",
       "    </tr>\n",
       "    <tr>\n",
       "      <th>join tbl_33569,join tbl_33583</th>\n",
       "      <td>12,062.168</td>\n",
       "      <td>19,219.462</td>\n",
       "      <td>15,206.861</td>\n",
       "      <td>391,904.687</td>\n",
       "      <td>3577</td>\n",
       "      <td>68,748,014.582</td>\n",
       "    </tr>\n",
       "    <tr>\n",
       "      <th>from tbl_14996</th>\n",
       "      <td>10,666,177.688</td>\n",
       "      <td>11,117,907.134</td>\n",
       "      <td>11,219,406.572</td>\n",
       "      <td>11,366,637.702</td>\n",
       "      <td>4</td>\n",
       "      <td>44,471,628.535</td>\n",
       "    </tr>\n",
       "    <tr>\n",
       "      <th>from tbl_42632</th>\n",
       "      <td>11.260</td>\n",
       "      <td>17,298.764</td>\n",
       "      <td>5,691.107</td>\n",
       "      <td>489,735.869</td>\n",
       "      <td>1787</td>\n",
       "      <td>30,912,891.080</td>\n",
       "    </tr>\n",
       "    <tr>\n",
       "      <th>from tbl_380498</th>\n",
       "      <td>553.716</td>\n",
       "      <td>601,451.967</td>\n",
       "      <td>15,218.108</td>\n",
       "      <td>5,881,187.347</td>\n",
       "      <td>48</td>\n",
       "      <td>28,869,694.425</td>\n",
       "    </tr>\n",
       "    <tr>\n",
       "      <th>from tbl_230191</th>\n",
       "      <td>3,256.432</td>\n",
       "      <td>696,912.463</td>\n",
       "      <td>874,169.431</td>\n",
       "      <td>1,623,820.663</td>\n",
       "      <td>40</td>\n",
       "      <td>27,876,498.516</td>\n",
       "    </tr>\n",
       "    <tr>\n",
       "      <th>join tbl_14578,join tbl_14714,from tbl_19103,join tbl_20055,join tbl_31648,join tbl_31787,from tbl_44898,join tbl_44894</th>\n",
       "      <td>24,487.245</td>\n",
       "      <td>1,209,164.958</td>\n",
       "      <td>1,435,201.260</td>\n",
       "      <td>2,057,973.067</td>\n",
       "      <td>22</td>\n",
       "      <td>26,601,629.079</td>\n",
       "    </tr>\n",
       "    <tr>\n",
       "      <th>from tbl_349223</th>\n",
       "      <td>60.824</td>\n",
       "      <td>61,897.280</td>\n",
       "      <td>508.542</td>\n",
       "      <td>2,343,057.756</td>\n",
       "      <td>397</td>\n",
       "      <td>24,573,220.126</td>\n",
       "    </tr>\n",
       "    <tr>\n",
       "      <th>join tbl_178294,from tbl_178359,from tbl_178398</th>\n",
       "      <td>42,431.407</td>\n",
       "      <td>76,812.060</td>\n",
       "      <td>56,598.856</td>\n",
       "      <td>838,816.449</td>\n",
       "      <td>289</td>\n",
       "      <td>22,198,685.466</td>\n",
       "    </tr>\n",
       "  </tbody>\n",
       "</table>\n",
       "</div>"
      ],
      "text/plain": [
       "                                                         duration  \\\n",
       "                                                              min   \n",
       "query                                                               \n",
       "from tbl_7207,from tbl_11022                               35.139   \n",
       "from tbl_308121                                     2,093,212.227   \n",
       "join tbl_33569,join tbl_33583                          12,062.168   \n",
       "from tbl_14996                                     10,666,177.688   \n",
       "from tbl_42632                                             11.260   \n",
       "from tbl_380498                                           553.716   \n",
       "from tbl_230191                                         3,256.432   \n",
       "join tbl_14578,join tbl_14714,from tbl_19103,jo...     24,487.245   \n",
       "from tbl_349223                                            60.824   \n",
       "join tbl_178294,from tbl_178359,from tbl_178398        42,431.407   \n",
       "\n",
       "                                                                   \\\n",
       "                                                             mean   \n",
       "query                                                               \n",
       "from tbl_7207,from tbl_11022                            8,066.081   \n",
       "from tbl_308121                                     4,904,726.364   \n",
       "join tbl_33569,join tbl_33583                          19,219.462   \n",
       "from tbl_14996                                     11,117,907.134   \n",
       "from tbl_42632                                         17,298.764   \n",
       "from tbl_380498                                       601,451.967   \n",
       "from tbl_230191                                       696,912.463   \n",
       "join tbl_14578,join tbl_14714,from tbl_19103,jo...  1,209,164.958   \n",
       "from tbl_349223                                        61,897.280   \n",
       "join tbl_178294,from tbl_178359,from tbl_178398        76,812.060   \n",
       "\n",
       "                                                                   \\\n",
       "                                                           median   \n",
       "query                                                               \n",
       "from tbl_7207,from tbl_11022                              259.701   \n",
       "from tbl_308121                                     4,690,881.263   \n",
       "join tbl_33569,join tbl_33583                          15,206.861   \n",
       "from tbl_14996                                     11,219,406.572   \n",
       "from tbl_42632                                          5,691.107   \n",
       "from tbl_380498                                        15,218.108   \n",
       "from tbl_230191                                       874,169.431   \n",
       "join tbl_14578,join tbl_14714,from tbl_19103,jo...  1,435,201.260   \n",
       "from tbl_349223                                           508.542   \n",
       "join tbl_178294,from tbl_178359,from tbl_178398        56,598.856   \n",
       "\n",
       "                                                                          \\\n",
       "                                                              max  count   \n",
       "query                                                                      \n",
       "from tbl_7207,from tbl_11022                        1,252,878.514  26765   \n",
       "from tbl_308121                                     9,219,758.960     25   \n",
       "join tbl_33569,join tbl_33583                         391,904.687   3577   \n",
       "from tbl_14996                                     11,366,637.702      4   \n",
       "from tbl_42632                                        489,735.869   1787   \n",
       "from tbl_380498                                     5,881,187.347     48   \n",
       "from tbl_230191                                     1,623,820.663     40   \n",
       "join tbl_14578,join tbl_14714,from tbl_19103,jo...  2,057,973.067     22   \n",
       "from tbl_349223                                     2,343,057.756    397   \n",
       "join tbl_178294,from tbl_178359,from tbl_178398       838,816.449    289   \n",
       "\n",
       "                                                                    \n",
       "                                                               sum  \n",
       "query                                                               \n",
       "from tbl_7207,from tbl_11022                       215,888,663.857  \n",
       "from tbl_308121                                    122,618,159.101  \n",
       "join tbl_33569,join tbl_33583                       68,748,014.582  \n",
       "from tbl_14996                                      44,471,628.535  \n",
       "from tbl_42632                                      30,912,891.080  \n",
       "from tbl_380498                                     28,869,694.425  \n",
       "from tbl_230191                                     27,876,498.516  \n",
       "join tbl_14578,join tbl_14714,from tbl_19103,jo...  26,601,629.079  \n",
       "from tbl_349223                                     24,573,220.126  \n",
       "join tbl_178294,from tbl_178359,from tbl_178398     22,198,685.466  "
      ]
     },
     "execution_count": 44,
     "metadata": {},
     "output_type": "execute_result"
    }
   ],
   "source": [
    "df.groupby('query').agg({'duration':['min','mean','median','max','count','sum']}).sort_values(\n",
    "        by=('duration','sum'),ascending=False).head(10)"
   ]
  },
  {
   "cell_type": "code",
   "execution_count": 56,
   "id": "46e99850",
   "metadata": {},
   "outputs": [],
   "source": [
    "t = df.copy()\n",
    "t['query'] = t['query'].apply(lambda x: x.replace('join', '').replace('from', '').replace('into', '').replace(' ', ''))\n",
    "t['query'] = t['query'].str.split(',')\n",
    "t['dur_tbl'] = t['duration'] / t['tbls']\n",
    "t = t.explode('query')\n",
    "# log_tabl=log_opt['query'].reset_index() # работаем с одним столбцом\n",
    "# log_tabl=log_tabl.assign(query=log_opt['query'].str.split(',')).explode('query') #разделяем строку, в качестве разделителя запятая\n",
    "# log_tabl = log_tabl[log_tabl['query'].notna()] # удаляем строки с Nan"
   ]
  },
  {
   "cell_type": "code",
   "execution_count": 57,
   "id": "c0d223d7",
   "metadata": {},
   "outputs": [
    {
     "data": {
      "text/html": [
       "<div>\n",
       "<style scoped>\n",
       "    .dataframe tbody tr th:only-of-type {\n",
       "        vertical-align: middle;\n",
       "    }\n",
       "\n",
       "    .dataframe tbody tr th {\n",
       "        vertical-align: top;\n",
       "    }\n",
       "\n",
       "    .dataframe thead th {\n",
       "        text-align: right;\n",
       "    }\n",
       "</style>\n",
       "<table border=\"1\" class=\"dataframe\">\n",
       "  <thead>\n",
       "    <tr style=\"text-align: right;\">\n",
       "      <th></th>\n",
       "      <th>rn</th>\n",
       "      <th>loguser</th>\n",
       "      <th>query</th>\n",
       "      <th>duration</th>\n",
       "      <th>tbls</th>\n",
       "      <th>dur_tbl</th>\n",
       "    </tr>\n",
       "  </thead>\n",
       "  <tbody>\n",
       "    <tr>\n",
       "      <th>0</th>\n",
       "      <td>16493642</td>\n",
       "      <td>etl_528</td>\n",
       "      <td>tbl_111329</td>\n",
       "      <td>240.851</td>\n",
       "      <td>1</td>\n",
       "      <td>240.851</td>\n",
       "    </tr>\n",
       "    <tr>\n",
       "      <th>1</th>\n",
       "      <td>12761109</td>\n",
       "      <td>etl_528</td>\n",
       "      <td>tbl_127353</td>\n",
       "      <td>2,165.935</td>\n",
       "      <td>1</td>\n",
       "      <td>2,165.935</td>\n",
       "    </tr>\n",
       "    <tr>\n",
       "      <th>2</th>\n",
       "      <td>28294808</td>\n",
       "      <td>etl_528</td>\n",
       "      <td>tbl_128986</td>\n",
       "      <td>17,661.026</td>\n",
       "      <td>1</td>\n",
       "      <td>17,661.026</td>\n",
       "    </tr>\n",
       "    <tr>\n",
       "      <th>3</th>\n",
       "      <td>12703938</td>\n",
       "      <td>etl_528</td>\n",
       "      <td>tbl_155188</td>\n",
       "      <td>1,047.568</td>\n",
       "      <td>1</td>\n",
       "      <td>1,047.568</td>\n",
       "    </tr>\n",
       "    <tr>\n",
       "      <th>4</th>\n",
       "      <td>5906380</td>\n",
       "      <td>etl_528</td>\n",
       "      <td>tbl_48128</td>\n",
       "      <td>171.001</td>\n",
       "      <td>1</td>\n",
       "      <td>171.001</td>\n",
       "    </tr>\n",
       "    <tr>\n",
       "      <th>...</th>\n",
       "      <td>...</td>\n",
       "      <td>...</td>\n",
       "      <td>...</td>\n",
       "      <td>...</td>\n",
       "      <td>...</td>\n",
       "      <td>...</td>\n",
       "    </tr>\n",
       "    <tr>\n",
       "      <th>630075</th>\n",
       "      <td>12924693</td>\n",
       "      <td>etl_2048</td>\n",
       "      <td>tbl_83793</td>\n",
       "      <td>1,190.617</td>\n",
       "      <td>3</td>\n",
       "      <td>396.872</td>\n",
       "    </tr>\n",
       "    <tr>\n",
       "      <th>630075</th>\n",
       "      <td>12924693</td>\n",
       "      <td>etl_2048</td>\n",
       "      <td>tbl_83793</td>\n",
       "      <td>1,190.617</td>\n",
       "      <td>3</td>\n",
       "      <td>396.872</td>\n",
       "    </tr>\n",
       "    <tr>\n",
       "      <th>630075</th>\n",
       "      <td>12924693</td>\n",
       "      <td>etl_2048</td>\n",
       "      <td>tbl_83792</td>\n",
       "      <td>1,190.617</td>\n",
       "      <td>3</td>\n",
       "      <td>396.872</td>\n",
       "    </tr>\n",
       "    <tr>\n",
       "      <th>630076</th>\n",
       "      <td>16756505</td>\n",
       "      <td>etl_1151</td>\n",
       "      <td>tbl_15915</td>\n",
       "      <td>417.199</td>\n",
       "      <td>1</td>\n",
       "      <td>417.199</td>\n",
       "    </tr>\n",
       "    <tr>\n",
       "      <th>630077</th>\n",
       "      <td>21023432</td>\n",
       "      <td>etl_2048</td>\n",
       "      <td>tbl_83212</td>\n",
       "      <td>692.306</td>\n",
       "      <td>1</td>\n",
       "      <td>692.306</td>\n",
       "    </tr>\n",
       "  </tbody>\n",
       "</table>\n",
       "<p>858298 rows × 6 columns</p>\n",
       "</div>"
      ],
      "text/plain": [
       "              rn   loguser       query   duration  tbls    dur_tbl\n",
       "0       16493642   etl_528  tbl_111329    240.851     1    240.851\n",
       "1       12761109   etl_528  tbl_127353  2,165.935     1  2,165.935\n",
       "2       28294808   etl_528  tbl_128986 17,661.026     1 17,661.026\n",
       "3       12703938   etl_528  tbl_155188  1,047.568     1  1,047.568\n",
       "4        5906380   etl_528   tbl_48128    171.001     1    171.001\n",
       "...          ...       ...         ...        ...   ...        ...\n",
       "630075  12924693  etl_2048   tbl_83793  1,190.617     3    396.872\n",
       "630075  12924693  etl_2048   tbl_83793  1,190.617     3    396.872\n",
       "630075  12924693  etl_2048   tbl_83792  1,190.617     3    396.872\n",
       "630076  16756505  etl_1151   tbl_15915    417.199     1    417.199\n",
       "630077  21023432  etl_2048   tbl_83212    692.306     1    692.306\n",
       "\n",
       "[858298 rows x 6 columns]"
      ]
     },
     "execution_count": 57,
     "metadata": {},
     "output_type": "execute_result"
    }
   ],
   "source": [
    "t"
   ]
  },
  {
   "cell_type": "code",
   "execution_count": 67,
   "id": "a1a50b2f",
   "metadata": {},
   "outputs": [
    {
     "data": {
      "text/html": [
       "<div>\n",
       "<style scoped>\n",
       "    .dataframe tbody tr th:only-of-type {\n",
       "        vertical-align: middle;\n",
       "    }\n",
       "\n",
       "    .dataframe tbody tr th {\n",
       "        vertical-align: top;\n",
       "    }\n",
       "\n",
       "    .dataframe thead th {\n",
       "        text-align: right;\n",
       "    }\n",
       "</style>\n",
       "<table border=\"1\" class=\"dataframe\">\n",
       "  <thead>\n",
       "    <tr style=\"text-align: right;\">\n",
       "      <th></th>\n",
       "      <th>mean</th>\n",
       "      <th>sum</th>\n",
       "      <th>count</th>\n",
       "    </tr>\n",
       "    <tr>\n",
       "      <th>query</th>\n",
       "      <th></th>\n",
       "      <th></th>\n",
       "      <th></th>\n",
       "    </tr>\n",
       "  </thead>\n",
       "  <tbody>\n",
       "    <tr>\n",
       "      <th>tbl_7207</th>\n",
       "      <td>4,033.041</td>\n",
       "      <td>107,944,331.929</td>\n",
       "      <td>26765</td>\n",
       "    </tr>\n",
       "    <tr>\n",
       "      <th>tbl_11022</th>\n",
       "      <td>4,033.041</td>\n",
       "      <td>107,944,331.929</td>\n",
       "      <td>26765</td>\n",
       "    </tr>\n",
       "    <tr>\n",
       "      <th>tbl_33595</th>\n",
       "      <td>747.353</td>\n",
       "      <td>6,362,966.571</td>\n",
       "      <td>8514</td>\n",
       "    </tr>\n",
       "    <tr>\n",
       "      <th>tbl_33623</th>\n",
       "      <td>1,477.820</td>\n",
       "      <td>11,939,305.128</td>\n",
       "      <td>8079</td>\n",
       "    </tr>\n",
       "    <tr>\n",
       "      <th>tbl_33570</th>\n",
       "      <td>908.179</td>\n",
       "      <td>7,151,908.779</td>\n",
       "      <td>7875</td>\n",
       "    </tr>\n",
       "    <tr>\n",
       "      <th>tbl_33583</th>\n",
       "      <td>8,920.536</td>\n",
       "      <td>34,629,519.444</td>\n",
       "      <td>3882</td>\n",
       "    </tr>\n",
       "    <tr>\n",
       "      <th>tbl_33569</th>\n",
       "      <td>9,569.611</td>\n",
       "      <td>34,374,043.194</td>\n",
       "      <td>3592</td>\n",
       "    </tr>\n",
       "    <tr>\n",
       "      <th>tbl_24696</th>\n",
       "      <td>7,619.646</td>\n",
       "      <td>19,559,631.981</td>\n",
       "      <td>2567</td>\n",
       "    </tr>\n",
       "    <tr>\n",
       "      <th>tbl_22189</th>\n",
       "      <td>2,872.095</td>\n",
       "      <td>6,749,423.108</td>\n",
       "      <td>2350</td>\n",
       "    </tr>\n",
       "    <tr>\n",
       "      <th>tbl_42632</th>\n",
       "      <td>17,298.764</td>\n",
       "      <td>30,912,891.080</td>\n",
       "      <td>1787</td>\n",
       "    </tr>\n",
       "  </tbody>\n",
       "</table>\n",
       "</div>"
      ],
      "text/plain": [
       "                mean             sum  count\n",
       "query                                      \n",
       "tbl_7207   4,033.041 107,944,331.929  26765\n",
       "tbl_11022  4,033.041 107,944,331.929  26765\n",
       "tbl_33595    747.353   6,362,966.571   8514\n",
       "tbl_33623  1,477.820  11,939,305.128   8079\n",
       "tbl_33570    908.179   7,151,908.779   7875\n",
       "tbl_33583  8,920.536  34,629,519.444   3882\n",
       "tbl_33569  9,569.611  34,374,043.194   3592\n",
       "tbl_24696  7,619.646  19,559,631.981   2567\n",
       "tbl_22189  2,872.095   6,749,423.108   2350\n",
       "tbl_42632 17,298.764  30,912,891.080   1787"
      ]
     },
     "execution_count": 67,
     "metadata": {},
     "output_type": "execute_result"
    }
   ],
   "source": [
    "table2=t.groupby('query').agg({'dur_tbl':['mean','sum','count']}).sort_values(by=('dur_tbl','count'),ascending=False)\n",
    "table2.columns=['mean','sum','count']\n",
    "table2.head(10)"
   ]
  },
  {
   "cell_type": "markdown",
   "id": "0861e552",
   "metadata": {},
   "source": [
    "Топ-10 объектов по суммарному времени выполнения"
   ]
  },
  {
   "cell_type": "code",
   "execution_count": 69,
   "id": "790ac771",
   "metadata": {},
   "outputs": [
    {
     "data": {
      "text/html": [
       "<div>\n",
       "<style scoped>\n",
       "    .dataframe tbody tr th:only-of-type {\n",
       "        vertical-align: middle;\n",
       "    }\n",
       "\n",
       "    .dataframe tbody tr th {\n",
       "        vertical-align: top;\n",
       "    }\n",
       "\n",
       "    .dataframe thead th {\n",
       "        text-align: right;\n",
       "    }\n",
       "</style>\n",
       "<table border=\"1\" class=\"dataframe\">\n",
       "  <thead>\n",
       "    <tr style=\"text-align: right;\">\n",
       "      <th></th>\n",
       "      <th>mean</th>\n",
       "      <th>sum</th>\n",
       "      <th>count</th>\n",
       "    </tr>\n",
       "    <tr>\n",
       "      <th>query</th>\n",
       "      <th></th>\n",
       "      <th></th>\n",
       "      <th></th>\n",
       "    </tr>\n",
       "  </thead>\n",
       "  <tbody>\n",
       "    <tr>\n",
       "      <th>tbl_308121</th>\n",
       "      <td>4,904,726.364</td>\n",
       "      <td>122,618,159.101</td>\n",
       "      <td>25</td>\n",
       "    </tr>\n",
       "    <tr>\n",
       "      <th>tbl_7207</th>\n",
       "      <td>4,033.041</td>\n",
       "      <td>107,944,331.929</td>\n",
       "      <td>26765</td>\n",
       "    </tr>\n",
       "    <tr>\n",
       "      <th>tbl_11022</th>\n",
       "      <td>4,033.041</td>\n",
       "      <td>107,944,331.929</td>\n",
       "      <td>26765</td>\n",
       "    </tr>\n",
       "    <tr>\n",
       "      <th>tbl_14996</th>\n",
       "      <td>11,117,907.134</td>\n",
       "      <td>44,471,628.535</td>\n",
       "      <td>4</td>\n",
       "    </tr>\n",
       "    <tr>\n",
       "      <th>tbl_33583</th>\n",
       "      <td>8,920.536</td>\n",
       "      <td>34,629,519.444</td>\n",
       "      <td>3882</td>\n",
       "    </tr>\n",
       "    <tr>\n",
       "      <th>tbl_33569</th>\n",
       "      <td>9,569.611</td>\n",
       "      <td>34,374,043.194</td>\n",
       "      <td>3592</td>\n",
       "    </tr>\n",
       "    <tr>\n",
       "      <th>tbl_29876</th>\n",
       "      <td>95,272.368</td>\n",
       "      <td>32,583,149.812</td>\n",
       "      <td>342</td>\n",
       "    </tr>\n",
       "    <tr>\n",
       "      <th>tbl_42632</th>\n",
       "      <td>17,298.764</td>\n",
       "      <td>30,912,891.080</td>\n",
       "      <td>1787</td>\n",
       "    </tr>\n",
       "    <tr>\n",
       "      <th>tbl_380498</th>\n",
       "      <td>306,259.362</td>\n",
       "      <td>29,707,158.114</td>\n",
       "      <td>97</td>\n",
       "    </tr>\n",
       "    <tr>\n",
       "      <th>tbl_230191</th>\n",
       "      <td>696,912.463</td>\n",
       "      <td>27,876,498.516</td>\n",
       "      <td>40</td>\n",
       "    </tr>\n",
       "  </tbody>\n",
       "</table>\n",
       "</div>"
      ],
      "text/plain": [
       "                     mean             sum  count\n",
       "query                                           \n",
       "tbl_308121  4,904,726.364 122,618,159.101     25\n",
       "tbl_7207        4,033.041 107,944,331.929  26765\n",
       "tbl_11022       4,033.041 107,944,331.929  26765\n",
       "tbl_14996  11,117,907.134  44,471,628.535      4\n",
       "tbl_33583       8,920.536  34,629,519.444   3882\n",
       "tbl_33569       9,569.611  34,374,043.194   3592\n",
       "tbl_29876      95,272.368  32,583,149.812    342\n",
       "tbl_42632      17,298.764  30,912,891.080   1787\n",
       "tbl_380498    306,259.362  29,707,158.114     97\n",
       "tbl_230191    696,912.463  27,876,498.516     40"
      ]
     },
     "execution_count": 69,
     "metadata": {},
     "output_type": "execute_result"
    }
   ],
   "source": [
    "table2.sort_values(by=('sum'),ascending=False).head(10)"
   ]
  },
  {
   "cell_type": "markdown",
   "id": "7547f21d",
   "metadata": {},
   "source": [
    "Топ-10 объектов по среднему времени выполнения"
   ]
  },
  {
   "cell_type": "code",
   "execution_count": 73,
   "id": "09620e1e",
   "metadata": {},
   "outputs": [
    {
     "data": {
      "text/html": [
       "<div>\n",
       "<style scoped>\n",
       "    .dataframe tbody tr th:only-of-type {\n",
       "        vertical-align: middle;\n",
       "    }\n",
       "\n",
       "    .dataframe tbody tr th {\n",
       "        vertical-align: top;\n",
       "    }\n",
       "\n",
       "    .dataframe thead th {\n",
       "        text-align: right;\n",
       "    }\n",
       "</style>\n",
       "<table border=\"1\" class=\"dataframe\">\n",
       "  <thead>\n",
       "    <tr style=\"text-align: right;\">\n",
       "      <th></th>\n",
       "      <th>mean</th>\n",
       "      <th>sum</th>\n",
       "      <th>count</th>\n",
       "    </tr>\n",
       "    <tr>\n",
       "      <th>query</th>\n",
       "      <th></th>\n",
       "      <th></th>\n",
       "      <th></th>\n",
       "    </tr>\n",
       "  </thead>\n",
       "  <tbody>\n",
       "    <tr>\n",
       "      <th>tbl_14996</th>\n",
       "      <td>11,117,907.134</td>\n",
       "      <td>44,471,628.535</td>\n",
       "      <td>4</td>\n",
       "    </tr>\n",
       "    <tr>\n",
       "      <th>tbl_308121</th>\n",
       "      <td>4,904,726.364</td>\n",
       "      <td>122,618,159.101</td>\n",
       "      <td>25</td>\n",
       "    </tr>\n",
       "    <tr>\n",
       "      <th>tbl_281142</th>\n",
       "      <td>2,520,295.504</td>\n",
       "      <td>17,642,068.531</td>\n",
       "      <td>7</td>\n",
       "    </tr>\n",
       "    <tr>\n",
       "      <th>tbl_309364</th>\n",
       "      <td>2,159,433.549</td>\n",
       "      <td>2,159,433.549</td>\n",
       "      <td>1</td>\n",
       "    </tr>\n",
       "    <tr>\n",
       "      <th>tbl_305654</th>\n",
       "      <td>1,713,216.093</td>\n",
       "      <td>5,139,648.280</td>\n",
       "      <td>3</td>\n",
       "    </tr>\n",
       "    <tr>\n",
       "      <th>tbl_115440</th>\n",
       "      <td>1,675,023.453</td>\n",
       "      <td>1,675,023.453</td>\n",
       "      <td>1</td>\n",
       "    </tr>\n",
       "    <tr>\n",
       "      <th>tbl_116052</th>\n",
       "      <td>1,675,023.453</td>\n",
       "      <td>1,675,023.453</td>\n",
       "      <td>1</td>\n",
       "    </tr>\n",
       "    <tr>\n",
       "      <th>tbl_230191</th>\n",
       "      <td>696,912.463</td>\n",
       "      <td>27,876,498.516</td>\n",
       "      <td>40</td>\n",
       "    </tr>\n",
       "    <tr>\n",
       "      <th>tbl_327798</th>\n",
       "      <td>646,386.080</td>\n",
       "      <td>7,110,246.875</td>\n",
       "      <td>11</td>\n",
       "    </tr>\n",
       "    <tr>\n",
       "      <th>tbl_92506</th>\n",
       "      <td>628,749.451</td>\n",
       "      <td>10,059,991.217</td>\n",
       "      <td>16</td>\n",
       "    </tr>\n",
       "  </tbody>\n",
       "</table>\n",
       "</div>"
      ],
      "text/plain": [
       "                     mean             sum  count\n",
       "query                                           \n",
       "tbl_14996  11,117,907.134  44,471,628.535      4\n",
       "tbl_308121  4,904,726.364 122,618,159.101     25\n",
       "tbl_281142  2,520,295.504  17,642,068.531      7\n",
       "tbl_309364  2,159,433.549   2,159,433.549      1\n",
       "tbl_305654  1,713,216.093   5,139,648.280      3\n",
       "tbl_115440  1,675,023.453   1,675,023.453      1\n",
       "tbl_116052  1,675,023.453   1,675,023.453      1\n",
       "tbl_230191    696,912.463  27,876,498.516     40\n",
       "tbl_327798    646,386.080   7,110,246.875     11\n",
       "tbl_92506     628,749.451  10,059,991.217     16"
      ]
     },
     "execution_count": 73,
     "metadata": {},
     "output_type": "execute_result"
    }
   ],
   "source": [
    "table2.sort_values(by=('mean'),ascending=False).head(10)"
   ]
  },
  {
   "cell_type": "markdown",
   "id": "2dc508a8",
   "metadata": {},
   "source": [
    "#### Вывод"
   ]
  },
  {
   "cell_type": "markdown",
   "id": "e104e764",
   "metadata": {},
   "source": [
    "**Самые горячие объекты из log_duration :**  \n",
    "\n",
    "- tbl_7207   \n",
    "- tbl_11022    \n",
    "-  tbl_33595  \n",
    "\n",
    "**Самый горячий запрос:**  \n",
    "\n",
    " - \"from tbl_7207,\n",
    " - from tbl_11022\"  \n",
    " \n",
    "Самые тяжелые объекты:  \n",
    "\n",
    "- tbl_14996    \n",
    "- tbl_308121  \n",
    "\n",
    "Больше всего грузили систему запросы: \"from tbl_7207,from tbl_11022\" и \"from tbl_308121\"\n",
    "\n"
   ]
  },
  {
   "cell_type": "markdown",
   "id": "8070f107",
   "metadata": {},
   "source": [
    "## Чек-лист готовности проекта"
   ]
  },
  {
   "cell_type": "markdown",
   "id": "89c1aa2b",
   "metadata": {},
   "source": [
    "[К началу тетрадки](#intro)"
   ]
  },
  {
   "cell_type": "markdown",
   "id": "8c1040a4",
   "metadata": {},
   "source": [
    "- [x]  описаны данные\n",
    "- [x]  загружены библиотеки\n",
    "- [x]  загружены данные\n",
    "- [x]  проведено знакомство с данными\n",
    "- [x]  найдены таблицы, в которые записываются данные (кем угодно), но которые не читаются разработчиками, ранжированы по степени «неиспользуемости»\n",
    "- [x]  поиск тяжелых объектов\n",
    "- [x]  сделаны промежуточные выводы, сделан общий вывод \n"
   ]
  }
 ],
 "metadata": {
  "kernelspec": {
   "display_name": "Python 3 (ipykernel)",
   "language": "python",
   "name": "python3"
  },
  "language_info": {
   "codemirror_mode": {
    "name": "ipython",
    "version": 3
   },
   "file_extension": ".py",
   "mimetype": "text/x-python",
   "name": "python",
   "nbconvert_exporter": "python",
   "pygments_lexer": "ipython3",
   "version": "3.9.7"
  },
  "toc": {
   "base_numbering": 1,
   "nav_menu": {},
   "number_sections": true,
   "sideBar": true,
   "skip_h1_title": true,
   "title_cell": "Table of Contents",
   "title_sidebar": "Contents",
   "toc_cell": true,
   "toc_position": {},
   "toc_section_display": true,
   "toc_window_display": true
  }
 },
 "nbformat": 4,
 "nbformat_minor": 5
}
